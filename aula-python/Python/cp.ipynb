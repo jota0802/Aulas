{
 "cells": [
  {
   "cell_type": "code",
   "execution_count": 1,
   "metadata": {},
   "outputs": [
    {
     "name": "stdout",
     "output_type": "stream",
     "text": [
      "O tempo de falha da maquina 1 é:  10\n",
      "O tempo de falha da maquina 2 é:  20\n",
      "O tempo de falha da maquina 3 é:  30\n",
      "O tempo de falha da maquina 4 é:  40\n",
      "tempo 1 é o menor tempo\n"
     ]
    }
   ],
   "source": [
    "tempo_falha1 = int(input(\"Insira o tempo de faha da maquina 1\"))\n",
    "tempo_falha2 = int(input(\"Insira o tempo de faha da maquina 2\"))\n",
    "tempo_falha3 = int(input(\"Insira o tempo de faha da maquina 3\"))\n",
    "tempo_falha4 = int(input(\"Insira o tempo de faha da maquina 4\"))\n",
    "\n",
    "print(\"O tempo de falha da maquina 1 é: \",tempo_falha1,)\n",
    "print(\"O tempo de falha da maquina 2 é: \",tempo_falha2,)\n",
    "print(\"O tempo de falha da maquina 3 é: \",tempo_falha3,)\n",
    "print(\"O tempo de falha da maquina 4 é: \",tempo_falha4,)\n",
    "\n",
    "media = (tempo_falha1 + tempo_falha2 + tempo_falha3 + tempo_falha4 ) / 4\n",
    "\n",
    "dif_tempo1 = media - tempo_falha1\n",
    "dif_tempo2 = media - tempo_falha2\n",
    "dif_tempo3 = media - tempo_falha3\n",
    "dif_tempo4 = media - tempo_falha4\n",
    "\n",
    "\n",
    "if dif_tempo1>dif_tempo2 and dif_tempo1>dif_tempo3 and dif_tempo1>dif_tempo4:\n",
    "    print(\"tempo 1 é o menor tempo\")\n",
    "elif dif_tempo2>dif_tempo1 and dif_tempo2>dif_tempo3 and dif_tempo2>dif_tempo4:\n",
    "    print(\"tempo 2 é o menor tempo\")\n",
    "elif dif_tempo3>dif_tempo1 and dif_tempo3>dif_tempo2 and dif_tempo2>dif_tempo4:\n",
    "    print(\"tempo 2 é o menor tempo\")\n",
    "elif dif_tempo1>dif_tempo2 and dif_tempo1>dif_tempo3 and dif_tempo1>dif_tempo4:\n",
    "    print(\"tempo 2 é o menor tempo\")"
   ]
  },
  {
   "cell_type": "code",
   "execution_count": null,
   "metadata": {},
   "outputs": [
    {
     "name": "stdout",
     "output_type": "stream",
     "text": [
      "acessp negado\n"
     ]
    }
   ],
   "source": [
    "senha_numero = float(input(\"insira uma senha com numeros\"))\n",
    "usuario = str(input(\"insira usuario\"))\n",
    "\n",
    "verificar_senha_numero = 12345\n",
    "verificar_usuario = \"fiap\"\n",
    "\n",
    "if senha_numero == verificar_senha_numero and usuario == verificar_usuario:\n",
    "    print(\"acesso liberado\")\n",
    "else:\n",
    "    print(\"acessp negado\")"
   ]
  },
  {
   "cell_type": "code",
   "execution_count": null,
   "metadata": {},
   "outputs": [
    {
     "name": "stdout",
     "output_type": "stream",
     "text": [
      "nome inválido\n"
     ]
    }
   ],
   "source": [
    "nome = str(input(\"insira seu nome\"))\n",
    "cpf = int(input(\"insira seu cpf sem traços\"))\n",
    "\n",
    "verificar_nome = \"jota\"\n",
    "verificar_rg = 123456789\n",
    "verificar_cpf = 12345678910\n",
    "if cpf== verificar_cpf and nome != verificar_nome:\n",
    "    print(\"nome inválido\")\n",
    "    if cpf == verificar_cpf and nome == verificar_nome:\n",
    "        rg = int(input(\"insira seu rg sem traços\"))\n",
    "        if rg == verificar_rg:\n",
    "            print(\"usuario valido\")\n",
    "        else:\n",
    "            print(\"rg inválido\")\n",
    "elif cpf != verificar_cpf and nome == verificar_nome:\n",
    "    print(\"cpf invalido\")\n",
    "else:\n",
    "    print(\"usuario não indentificado\")\n"
   ]
  },
  {
   "cell_type": "code",
   "execution_count": 3,
   "metadata": {},
   "outputs": [
    {
     "name": "stdout",
     "output_type": "stream",
     "text": [
      "Parabéns! Você acertou a palavra: aba\n"
     ]
    }
   ],
   "source": [
    "Palavra_Correta = False #estabelecendo condição false para conseguirmos utilizar do programa while junto do True para encerrar o loop\n",
    "\n",
    "while not Palavra_Correta:\n",
    "    palavra = str(input(\"Usuário 1: insira a palavra a ser advinhada\")) #inserir a palavra a ser advinhada\n",
    "    verificar_palavra = str(input(\"Usuário 2: insira a palavra\")) #tentativa de acerto 1\n",
    "    if verificar_palavra == palavra: #condição do acerto\n",
    "        print(\"Parabéns! Você acertou a palavra:\",palavra,)\n",
    "        Palavra_Correta = True #decreta o fim do loop, pois o usuário acertou a palavra\n",
    "    else:\n",
    "        print(\"A palavra está Incorreta, Tente Novamente, 2 Tentativas restantes\")\n",
    "        verificar_palavra = str(input(\"Insira a palavra\"))#tentaiva de acerto 2\n",
    "        if verificar_palavra == palavra: #condição do acerto\n",
    "            print(\"Parabéns! Você acertou a palavra:\",palavra,)\n",
    "            Palavra_Correta = True #decreta o fim do loop, pois o usuário acertou a palavra\n",
    "        else:\n",
    "            print(\"A palavra está Incorreta, Tente Novamente, 1 Tentativas restantes\") \n",
    "            verificar_palavra= str(input(\"Insira a palavra\")) #tentativa de acerto 3\n",
    "            if verificar_palavra == palavra: #condição do acerto\n",
    "                print(\"Parabéns! Você acertou a palavra:\",palavra,)\n",
    "                Palavra_Correta = True #decreta o fim do loop, pois o usuário acertou a palavra\n",
    "            else:\n",
    "                print(\" palavra está Incorreta, você já utilizou todas as suas chances\") #acabou as tentativas de acerto do usuario 2\n",
    "                break #decreta o fim do loop, pois o usuário não acertou a palavra"
   ]
  },
  {
   "cell_type": "code",
   "execution_count": 4,
   "metadata": {},
   "outputs": [
    {
     "ename": "NameError",
     "evalue": "name 'relação2' is not defined",
     "output_type": "error",
     "traceback": [
      "\u001b[1;31m---------------------------------------------------------------------------\u001b[0m",
      "\u001b[1;31mNameError\u001b[0m                                 Traceback (most recent call last)",
      "Cell \u001b[1;32mIn[4], line 21\u001b[0m\n\u001b[0;32m     17\u001b[0m qntd4 \u001b[38;5;241m=\u001b[39m \u001b[38;5;28mint\u001b[39m(\u001b[38;5;28minput\u001b[39m(\u001b[38;5;124m\"\u001b[39m\u001b[38;5;124mInsira a quantidade: \u001b[39m\u001b[38;5;124m\"\u001b[39m))\n\u001b[0;32m     19\u001b[0m relação1 \u001b[38;5;241m=\u001b[39m qntd1 \u001b[38;5;241m*\u001b[39m valor1\n\u001b[1;32m---> 21\u001b[0m \u001b[38;5;28;01mif\u001b[39;00m relação1 \u001b[38;5;241m>\u001b[39m \u001b[43mrelação2\u001b[49m \u001b[38;5;129;01mand\u001b[39;00m relação1 \u001b[38;5;241m>\u001b[39m relação3 \u001b[38;5;129;01mand\u001b[39;00m relação1 \u001b[38;5;241m>\u001b[39mrelação4:\n\u001b[0;32m     22\u001b[0m     \u001b[38;5;28mprint\u001b[39m(\u001b[38;5;124mf\u001b[39m\u001b[38;5;124m\"\u001b[39m\u001b[38;5;124mProduto 1 é o maior: \u001b[39m\u001b[38;5;132;01m{\u001b[39;00mproduto1\u001b[38;5;132;01m}\u001b[39;00m\u001b[38;5;124m\"\u001b[39m)\n",
      "\u001b[1;31mNameError\u001b[0m: name 'relação2' is not defined"
     ]
    }
   ],
   "source": [
    "#Crie um programa que solicite a quantidade de 4 produtos e seus respectivos valores. Em seguida, exiba os valores da relação preço x quantidade dos produtos em ordem crescente. Utilize apenas os conceitos apresentados em sala de aula.\n",
    "\n"
   ]
  },
  {
   "cell_type": "code",
   "execution_count": 3,
   "metadata": {},
   "outputs": [
    {
     "name": "stdout",
     "output_type": "stream",
     "text": [
      "A senha está Incorreta, Tente Novamente, 2 Tentativas restantes\n"
     ]
    },
    {
     "ename": "NameError",
     "evalue": "name 'Palavra_Chave2' is not defined",
     "output_type": "error",
     "traceback": [
      "\u001b[1;31m---------------------------------------------------------------------------\u001b[0m",
      "\u001b[1;31mNameError\u001b[0m                                 Traceback (most recent call last)",
      "Cell \u001b[1;32mIn[3], line 32\u001b[0m\n\u001b[0;32m     30\u001b[0m     \u001b[39mprint\u001b[39m(\u001b[39m\"\u001b[39m\u001b[39mA Palavra-Chave está Incorreta, Tente Novamente, 1 Tentativa restante\u001b[39m\u001b[39m\"\u001b[39m)\n\u001b[0;32m     31\u001b[0m     Palavra_Chave3 \u001b[39m=\u001b[39m \u001b[39mstr\u001b[39m(\u001b[39minput\u001b[39m(\u001b[39m\"\u001b[39m\u001b[39mInsira a Palavra-Chave\u001b[39m\u001b[39m\"\u001b[39m))\n\u001b[1;32m---> 32\u001b[0m \u001b[39melif\u001b[39;00m Senha1 \u001b[39m!=\u001b[39m \u001b[39m1234\u001b[39m \u001b[39mand\u001b[39;00m Palavra_Chave2 \u001b[39m!=\u001b[39m \u001b[39m\"\u001b[39m\u001b[39mluna\u001b[39m\u001b[39m\"\u001b[39m:\n\u001b[0;32m     33\u001b[0m     \u001b[39mprint\u001b[39m(\u001b[39m\"\u001b[39m\u001b[39mA senha e a Palavra-Chave estão Incorretas, Tente Novamente, 1 Tentativas restantes\u001b[39m\u001b[39m\"\u001b[39m)\n\u001b[0;32m     34\u001b[0m     Senha2 \u001b[39m=\u001b[39m \u001b[39mint\u001b[39m(\u001b[39minput\u001b[39m(\u001b[39m\"\u001b[39m\u001b[39mInsira a Senha\u001b[39m\u001b[39m\"\u001b[39m))\n",
      "\u001b[1;31mNameError\u001b[0m: name 'Palavra_Chave2' is not defined"
     ]
    }
   ],
   "source": [
    "LoginRealizado = False #estabelecendo condição false para conseguirmos utilizar do programa while junto do True para encerrar o loop\n",
    "\n",
    "while not LoginRealizado:\n",
    "    Usuário = str(input(\"Insira o Usuário\"))\n",
    "    if Usuário == \"jota\":\n",
    "        Senha = int(input(\"Insira a Senha\"))\n",
    "        Palavra_Chave = str(input(\"Insira a Palavra Chave\"))\n",
    "        if Senha == 1234 and Palavra_Chave == \"luna\":\n",
    "            print(\"Seja Bem-Vindo\", Usuário,)\n",
    "            LoginRealizado = True\n",
    "        else:\n",
    "            if Senha == 1234 and Palavra_Chave != \"luna\":\n",
    "                print(\"A palavra chave está Incorreta, Tente Novamente, 2 Tentativas restantes\")\n",
    "                Palavra_Chave2 = str(input(\"Insira a Palavra-Chave\"))\n",
    "            elif Senha != 1234 and Palavra_Chave != \"luna\":\n",
    "                print(\"A senha e a Palavra-Chave estão Incorretas, Tente Novamente, 2 Tentativas restantes\")\n",
    "                Senha1 = int(input(\"Insira a Senha\"))\n",
    "                Palavra_Chave2 = str(input(\"Insira a Palavra-Chave\"))\n",
    "            else:\n",
    "                print(\"A senha está Incorreta, Tente Novamente, 2 Tentativas restantes\")\n",
    "                Senha1 = int(input(\"Insira a Senha\"))\n",
    "                if Senha1 == 1234 and Palavra_Chave2 == \"luna\":\n",
    "                    print(\"Seja Bem-Vindo,\",Usuário,)\n",
    "                    LoginRealizado = True\n",
    "                else:\n",
    "                    if Senha1 == 1234 and Palavra_Chave2 == \"luna\":\n",
    "                        print(\"Seja Bem-Vindo\", Usuário,)\n",
    "                        LoginRealizado = True\n",
    "                    elif Senha1 == 1234 and Palavra_Chave2 != \"luna\":\n",
    "                        print(\"A Palavra-Chave está Incorreta, Tente Novamente, 1 Tentativa restante\")\n",
    "                        Palavra_Chave3 = str(input(\"Insira a Palavra-Chave\"))\n",
    "                    elif Senha1 != 1234 and Palavra_Chave2 != \"luna\":\n",
    "                        print(\"A senha e a Palavra-Chave estão Incorretas, Tente Novamente, 1 Tentativas restantes\")\n",
    "                        Senha2 = int(input(\"Insira a Senha\"))\n",
    "                        Palavra_Chave3 = str(input(\"Insira a Palavra-Chave\"))\n",
    "                    else:\n",
    "                        print(\"A senha está Incorreta, Tente Novamente, 1 Tentativas restantes\")\n",
    "                        Senha2 = int(input(\"Insira a Senha\"))\n",
    "                        if Senha2 == 1234 and Palavra_Chave3 == \"luna\":\n",
    "                            print(\"Seja Bem-Vindo\", Usuário,)\n",
    "                            LoginRealizado = True\n",
    "                        elif Senha2 == 1234 and Palavra_Chave3 != \"luna\":\n",
    "                            print(\"A Palavra-Chave está Incorreta, Usuário Bloqueado\")\n",
    "                            break\n",
    "                        elif Senha2 != 1234 and Palavra_Chave3 != \"luna\":\n",
    "                            print(\"A senha e a Palavra-Chave estão Incorretas, Usuário Bloqueado\")\n",
    "                            break\n",
    "                        else:\n",
    "                            print(\"A senha está Incorreta, Usuário Bloqueado\")\n",
    "                            break\n",
    "    else:\n",
    "        print(\"Usuário Invalido, tente novamente\")"
   ]
  },
  {
   "cell_type": "code",
   "execution_count": 53,
   "metadata": {},
   "outputs": [
    {
     "name": "stdout",
     "output_type": "stream",
     "text": [
      "Moeda de destino inválida.\n"
     ]
    }
   ],
   "source": []
  },
  {
   "cell_type": "code",
   "execution_count": 56,
   "metadata": {},
   "outputs": [
    {
     "name": "stdout",
     "output_type": "stream",
     "text": [
      " o passageiro precisa verificar os requisitos de visto para entrada no país\n"
     ]
    }
   ],
   "source": [
    "nome = str(input(\"Insira seu nome\"))\n",
    "nacionalidade = str(input(\"insira a sua nacionalidade\"))\n",
    "numero_pass = int(input(\"Insira o numero do passaporte\"))\n",
    "\n",
    "if nacionalidade == \"brasileiro\" and numero_pass == 1234:\n",
    "    print(\"seja bem vindo ao Brasil\")\n",
    "elif nacionalidade == \"britânico\" and numero_pass == 1234:\n",
    "    print(\" o passageiro precisa verificar os requisitos de visto para entrada no país\")\n",
    "elif nacionalidade == \"alemão\" and numero_pass == 1234:\n",
    "     print(\" o passageiro precisa verificar os requisitos de visto para entrada no país\")\n",
    "elif nacionalidade == \"americano\" and numero_pass == 1234:\n",
    "     print(\" o passageiro precisa verificar os requisitos de visto para entrada no país\")\n"
   ]
  },
  {
   "cell_type": "code",
   "execution_count": 58,
   "metadata": {},
   "outputs": [
    {
     "name": "stdout",
     "output_type": "stream",
     "text": [
      "380\n"
     ]
    }
   ],
   "source": [
    "preco1 = 40\n",
    "preco2 = 50\n",
    "preco3 = 60\n",
    "preco4 = 70\n",
    "\n",
    "quant1 = 80\n",
    "quant2 = 110\n",
    "quant3 = 200\n",
    "quant4 = 900\n",
    "\n",
    "prod1 = preco1 * quant1\n",
    "prod2 = preco2 * quant2\n",
    "prod3 = preco3 * quant3\n",
    "prod4 = preco4 * quant4\n",
    "\n",
    "mediaPond = (prod1 + prod2 +prod3 + prod4) / (preco1 + preco2 + preco3 + preco4)\n",
    "print(round(mediaPond))"
   ]
  },
  {
   "cell_type": "code",
   "execution_count": 59,
   "metadata": {},
   "outputs": [
    {
     "name": "stdout",
     "output_type": "stream",
     "text": [
      "12.0 USD equivale a 61.80 BRL\n"
     ]
    }
   ],
   "source": [
    "taxa_conversão = {\n",
    "  \"BRL\": 5.15,\n",
    "  \"EUR\": 0.95,\n",
    "  \"GBP\": 0.72,\n",
    "}\n",
    "\n",
    "Moeda = input(\"Digite a moeda que deseja converter para (BRL, EUR, TRL): \")\n",
    "Quantidade = float(input(\"Digite o valor em USD que deseja converter: \"))\n",
    "\n",
    "if Moeda not in taxa_conversão:\n",
    "  print(\"Moeda inválida! Por favor, digite BRL, EUR ou TRL.\")\n",
    "else:\n",
    "\n",
    "  converted_amount = Quantidade * taxa_conversão[Moeda]\n",
    "  print(f\"{Quantidade} USD equivale a {converted_amount:.2f} {Moeda}\")"
   ]
  },
  {
   "cell_type": "code",
   "execution_count": 3,
   "metadata": {},
   "outputs": [
    {
     "name": "stdout",
     "output_type": "stream",
     "text": [
      "[1500000, 3000000, 4500000, 6000000, 7500000, 9000000]\n"
     ]
    }
   ],
   "source": [
    "# 1.Crie um programa que retorne uma lista de valores de massa, dado que a velocidade da luz é c = 300000 km/s e a lista de força 500, 1000, 1500, 2000, 2500, 3000 kN respectivamente. Utilize uma estrutura de repetição com for e append.\n",
    "\n",
    "lista_f = [500, 1000, 1500, 2000, 2500, 3000]\n",
    "lista_massa = []\n",
    "# m=f/a\n",
    "\n",
    "for i in range (0,len(lista_f)):\n",
    "    massa = 3000 * lista_f[i]\n",
    "    lista_massa.append(massa)\n",
    "print (lista_massa)"
   ]
  },
  {
   "cell_type": "code",
   "execution_count": null,
   "metadata": {},
   "outputs": [],
   "source": [
    "# Crie um programa para solicitar quatro nomes e cpfs. Utilize listas, contador, append e retorne duas listas chamadas nomes e cpfs contendo as respectivas informações. Utilize estrutura de repetição while.\n",
    "\n",
    "lista_nomes = []\n",
    "lista_cpfs = []\n",
    "cont = 1\n",
    "\n",
    "while cont <= 4:\n",
    "    nome = input(f'Digite o nome{cont}:')\n",
    "    cpf = input(f'Digite o cpf{cont}:')\n",
    "\n",
    "    lista_nomes.append(nome)\n",
    "    lista_cpfs.append(cpf)\n",
    "    cont+=1 \n",
    "\n",
    "print(lista_nomes)\n",
    "print(lista_cpfs)"
   ]
  },
  {
   "cell_type": "code",
   "execution_count": 17,
   "metadata": {},
   "outputs": [
    {
     "name": "stdout",
     "output_type": "stream",
     "text": [
      "notebook está na loja, e foi colocado na lista 0 vezes\n",
      "ssd está na loja, e foi colocado na lista 1 vezes\n",
      "mouse está na loja, e foi colocado na lista 1 vezes\n",
      "teclado está na loja, e foi colocado na lista 0 vezes\n",
      "monitor está na loja, e foi colocado na lista 0 vezes\n"
     ]
    }
   ],
   "source": [
    "# Você está criando um programa para registrar as compras em uma loja de computadores. Primeiro, você solicitará ao usuário que insira 5 produtos adquiridos. Em seguida, usando uma estrutura de repetição com while, você criará uma lista e inserirá esses produtos nela.\n",
    "  \n",
    "# lista_produtos = [‘notebook', ‘ssd', ‘mouse', ‘teclado', ‘monitor']\n",
    "  \n",
    "# Depois, você verificará se os produtos digitados estão dentro da lista de produtos da loja. Para isso, você usará uma estrutura de repetição for. Em seguida, você contará a quantidade de cada tipo de produto digitado pelo usuário. \n",
    "lista_produtos_inseridos = []\n",
    "lista_produtos = [\"notebook\", \"ssd\", \"mouse\", \"teclado\", \"monitor\"]\n",
    "for i in range (0,5):\n",
    "    Produtos = str(input(\"Insira um Produto\"))\n",
    "    lista_produtos_inseridos.append(Produtos)\n",
    "\n",
    "\n",
    "produtos_pontos = [0,0,0,0,0]\n",
    "for f in range(0,len(lista_produtos)):\n",
    "    for Produtos in lista_produtos_inseridos:\n",
    "        if Produtos == lista_produtos[f]:\n",
    "            produtos_pontos[f] += 1\n",
    "    print(lista_produtos[f], \"está na loja, e foi colocado na lista\",produtos_pontos[f], \"vezes\")\n",
    "\n",
    "           \n"
   ]
  },
  {
   "cell_type": "code",
   "execution_count": null,
   "metadata": {},
   "outputs": [],
   "source": [
    "lista_salarios = [1800, 2500, 3200, 4200, 5000]\n",
    "\n",
    "salario_10 = []\n",
    "salario_20 = []\n",
    "salario_30 = []\n",
    "\n",
    "for i in lista_salarios:\n",
    "    salario = 0\n",
    "\n",
    "    if i <= 2000:\n",
    "        salario = i * 0.9\n",
    "        salario_10.append(salario)\n",
    "    elif i > 2000 and i <= 4000:\n",
    "        salario = i * 0.8\n",
    "        salario_20.append(salario)\n",
    "    else:\n",
    "        salario = i * 0.7\n",
    "        salario_30.append(salario)\n",
    "\n",
    "print(f'Os salarios com 10% de desconto valem: {salario_10}')\n",
    "print(f'Os Salarios com 20% de desconto valem: {salario_20}')\n",
    "print(f'Os Salarios com 30% de desconto valem: {salario_30}')"
   ]
  },
  {
   "cell_type": "code",
   "execution_count": 20,
   "metadata": {},
   "outputs": [
    {
     "name": "stdout",
     "output_type": "stream",
     "text": [
      "['', '', '', '']\n",
      "['', '', '', '']\n"
     ]
    }
   ],
   "source": [
    "lista_nomes = []\n",
    "lista_cpfs = []\n",
    "contador = 1\n",
    "\n",
    "for contador in range(1,5):\n",
    "    nome = input(f'Digite o nome {contador}:')\n",
    "    cpf = input(f'Digite o cpf {contador}:')\n",
    "\n",
    "    lista_nomes.append(nome)\n",
    "    lista_cpfs.append(cpf)\n",
    "    contador+=1 \n",
    "\n",
    "print(lista_nomes)\n",
    "print(lista_cpfs)"
   ]
  },
  {
   "cell_type": "code",
   "execution_count": null,
   "metadata": {},
   "outputs": [],
   "source": [
    "usuario1 = []\n",
    "usuario2 = []\n",
    "\n",
    "contador1 = 1\n",
    "contador2 = 1\n",
    "\n",
    "somaUsuario1 = 0\n",
    "somaUsuario2 = 0\n",
    "\n",
    "while contador1 <= 5: \n",
    "    valor = int(input(f'Usuario1. Digite o valor do produto {contador1}'))\n",
    "    usuario1.append(valor)\n",
    "    somaUsuario1 += valor\n",
    "    contador1+=1\n",
    "\n",
    "while contador2 <= 5: \n",
    "    valor = int(input(f'Usuario2. Digite o valor do produto {contador2}'))\n",
    "    usuario2.append(valor)\n",
    "    somaUsuario2 += valor\n",
    "    contador2+=1\n",
    "\n",
    "print(f'Valores usuario 1: {usuario1}')\n",
    "print(f'Valores usuario 2: {usuario2}')\n",
    "print(f'O usuario 1 gastou R${somaUsuario1},00 com média de R${somaUsuario1 / 5} por produto')\n",
    "print(f'O usuario 2 gastou R${somaUsuario2},00 com média de R${somaUsuario2 / 5} por produto')"
   ]
  }
 ],
 "metadata": {
  "kernelspec": {
   "display_name": "Python 3",
   "language": "python",
   "name": "python3"
  },
  "language_info": {
   "codemirror_mode": {
    "name": "ipython",
    "version": 3
   },
   "file_extension": ".py",
   "mimetype": "text/x-python",
   "name": "python",
   "nbconvert_exporter": "python",
   "pygments_lexer": "ipython3",
   "version": "3.11.4"
  },
  "orig_nbformat": 4
 },
 "nbformat": 4,
 "nbformat_minor": 2
}
