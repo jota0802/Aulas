{
 "cells": [
  {
   "cell_type": "code",
   "execution_count": null,
   "metadata": {},
   "outputs": [],
   "source": [
    "cem = False\n",
    "while not cem:\n",
    "    num = int(input(\"Insira um numero maior igual a 100\"))\n",
    "    if num >100:\n",
    "        print(\"o número\",num,\"é maior que 100\")\n",
    "        cem = True\n",
    "    elif num == 100:\n",
    "        print(\"o número é igual a 100\")\n",
    "        cem = True\n",
    "    else:\n",
    "        print(\"o número\",num,\"não é maior que 100\")"
   ]
  },
  {
   "cell_type": "code",
   "execution_count": null,
   "metadata": {},
   "outputs": [],
   "source": [
    "LoginRealizado = False\n",
    "\n",
    "while not LoginRealizado:\n",
    "    Usuário = str(input(\"Insira o Usuário\"))\n",
    "    Senha = int(input(\"Insira a Senha\"))\n",
    "    if Usuário == \"admin\":\n",
    "        if Senha == 1234:\n",
    "            print(\"Seja Bem-Vindo Admin\")\n",
    "            LoginRealizado = True\n",
    "        else:\n",
    "            print(\"A senha está Incorreta, Tente Novamente, 3 Tentativas restantes\")\n",
    "            SenhaTent1 = int(input(\"Insira a Senha\"))\n",
    "            if SenhaTent1 == 1234:\n",
    "                print(\"Seja Bem-Vindo Admin\")\n",
    "                LoginRealizado = True\n",
    "            else:\n",
    "                print(\"A senha está Incorreta, Tente Novamente, 2 Tentativas restantes\")\n",
    "                SenhaTent2 = int(input(\"Insira sua Senha\"))\n",
    "                if SenhaTent2 == 1234:\n",
    "                    print(\"Seja Bem-Vindo Admin\")\n",
    "                    LoginRealizado = True\n",
    "                else:\n",
    "                    print(\"A senha está Incorreta, Tente Novamente, 1 Tentativa restante\")\n",
    "                    SenhaTent3 = int(input(\"Insira sua Senha\"))\n",
    "                    if SenhaTent3 == 1234:\n",
    "                        print(\"Seja Bem-Vindo Admin\")\n",
    "                        LoginRealizado = True\n",
    "                    else:\n",
    "                        print(\"A senha está incorreta, você ja utilizou todas as suas tentativas restantes, usuário bloqueado\")\n",
    "                        break\n",
    "    else:\n",
    "        print(\"Usuário Invalido, tente novamente\")"
   ]
  },
  {
   "cell_type": "code",
   "execution_count": 10,
   "metadata": {},
   "outputs": [
    {
     "name": "stdout",
     "output_type": "stream",
     "text": [
      "A senha está Incorreta, Tente Novamente, 3 Tentativas restantes\n",
      "A senha está Incorreta, Tente Novamente, 2 Tentativas restantes\n",
      "A senha está Incorreta, Tente Novamente, 1 Tentativa restante\n",
      "A senha está incorreta, você ja utilizou todas as suas tentativas restantes, usuário bloqueado\n"
     ]
    }
   ],
   "source": [
    "Usuário = str(input(\"Inisra o Usuário\"))\n",
    "Senha = int(input(\"Insira a Senha\"))\n",
    "while Usuário != \"admin\":\n",
    "    print(\"Usuário invalido tente novamente\")\n",
    "    Usuário = str(input(\"Insira o Usuário\"))\n",
    "    Senha = int(input(\"Insira a Senha\"))\n",
    "if Usuário == \"admin\":\n",
    "    if Senha == 1234:\n",
    "        print(\"Seja Bem-Vindo Admin\")\n",
    "    else:\n",
    "        print(\"A senha está Incorreta, Tente Novamente, 3 Tentativas restantes\")\n",
    "        SenhaTent1 = int(input(\"Insira a Senha\"))\n",
    "        if SenhaTent1 == 1234:\n",
    "            print(\"Seja Bem-Vindo Admin\")\n",
    "        else:\n",
    "            print(\"A senha está Incorreta, Tente Novamente, 2 Tentativas restantes\")\n",
    "            SenhaTent2 = int(input(\"Insira sua Senha\"))\n",
    "            if SenhaTent2 == 1234:\n",
    "                print(\"Seja Bem-Vindo Admin\")\n",
    "            else:\n",
    "                print(\"A senha está Incorreta, Tente Novamente, 1 Tentativa restante\")\n",
    "                SenhaTent3 = int(input(\"Insira sua Senha\"))\n",
    "                if SenhaTent3 == 1234:\n",
    "                    print(\"Seja Bem-Vindo Admin\")\n",
    "                else:\n",
    "                    print(\"A senha está incorreta, você ja utilizou todas as suas tentativas restantes, usuário bloqueado\")"
   ]
  },
  {
   "cell_type": "code",
   "execution_count": null,
   "metadata": {},
   "outputs": [],
   "source": [
    "print(\"1-Adição\")\n",
    "print(\"2-Subtração\")\n",
    "print(\"3-Multiplição\")\n",
    "print(\"4-Divisão\")\n",
    "print(\"\")\n",
    "\n",
    "OP = int(input(\"Escolha uma Operação\"))\n",
    "a = float(input(\"Insira um valor para A\"))\n",
    "b = float(input(\"Insira um valor para B\"))\n",
    "\n",
    "# valor1 = float(input(\"Insira um valor para A\"))\n",
    "# valor2 = float(input(\"Insira um valor para B\"))\n",
    "\n",
    "\n",
    "def Soma(a ,b):\n",
    "    return (a + b)\n",
    "ResultadoSOMA = Soma(a, b)\n",
    "\n",
    "# def Soma(a ,b):\n",
    "#     return (a + b)\n",
    "# ResultadoSOMA = Soma(valor1, valor2)\n",
    "\n",
    "def Subtração (a, b):\n",
    "    return (a - b)\n",
    "ResultadoSUB = Subtração(a, b) \n",
    "\n",
    "def Multiplicação (a, b):\n",
    "    return (a * b)\n",
    "ResultadoM = Multiplicação (a, b)\n",
    "\n",
    "def Divisão(a, b):\n",
    "    return (a / b)\n",
    "ResultadoD = Divisão (a, b)\n",
    "\n",
    "if OP == 1:\n",
    "    print(\"O resultado da adição vale:\",ResultadoSOMA)\n",
    "elif OP == 2:\n",
    "    print(\"O resultado da subração vale:\",ResultadoSUB)\n",
    "elif OP == 3:\n",
    "    print(\"O resultado da multiplicação vale:\",ResultadoM)\n",
    "elif OP == 4:\n",
    "    print(\"O resultado da divsão vale:\",ResultadoD)"
   ]
  },
  {
   "cell_type": "code",
   "execution_count": 2,
   "metadata": {},
   "outputs": [
    {
     "name": "stdout",
     "output_type": "stream",
     "text": [
      "6 x 1 = 6\n",
      "6 x 2 = 12\n",
      "6 x 3 = 18\n",
      "6 x 4 = 24\n",
      "6 x 5 = 30\n",
      "6 x 6 = 36\n",
      "6 x 7 = 42\n",
      "6 x 8 = 48\n",
      "6 x 9 = 54\n",
      "6 x 10 = 60\n"
     ]
    }
   ],
   "source": [
    "num = int(input(\"coloque um numero\"))\n",
    "\n",
    "i = 1\n",
    "\n",
    "while i <= 10:\n",
    "    print(num,\"x\", i, \"=\", num * i )\n",
    "    i += 1"
   ]
  },
  {
   "cell_type": "code",
   "execution_count": 8,
   "metadata": {},
   "outputs": [
    {
     "name": "stdout",
     "output_type": "stream",
     "text": [
      "A frase tem jota\n"
     ]
    }
   ],
   "source": [
    "frase = str(input(\"Digite a Frase\"))\n",
    "indice = 0\n",
    "tem_jota = False\n",
    "\n",
    "while indice < len(frase):\n",
    "    if frase[indice] == 'j':\n",
    "        tem_jota = True\n",
    "        break\n",
    "    indice += 1\n",
    "\n",
    "if tem_jota:\n",
    "    print(\"A frase tem jota\")\n",
    "else:\n",
    "    print(\"Sem jota na frase\")"
   ]
  },
  {
   "cell_type": "code",
   "execution_count": null,
   "metadata": {},
   "outputs": [],
   "source": [
    "palavra = str(input(\"Insira uma palavra\"))\n",
    "print(\"O comprimento da palavra é:\",len(palavra))"
   ]
  },
  {
   "cell_type": "code",
   "execution_count": 42,
   "metadata": {},
   "outputs": [
    {
     "name": "stdout",
     "output_type": "stream",
     "text": [
      "167\n",
      "168\n"
     ]
    }
   ],
   "source": [
    "numero = int(input(\"insira um numero\"))\n",
    "while  0 <= numero:\n",
    "    print(numero)\n",
    "    numero +=1\n",
    "    if numero == 169:\n",
    "        break"
   ]
  },
  {
   "cell_type": "code",
   "execution_count": 28,
   "metadata": {},
   "outputs": [
    {
     "name": "stdout",
     "output_type": "stream",
     "text": [
      "15\n",
      "14\n",
      "13\n",
      "12\n",
      "11\n",
      "10\n",
      "9\n",
      "8\n",
      "7\n",
      "6\n",
      "5\n",
      "4\n",
      "3\n",
      "2\n",
      "1\n",
      "0\n"
     ]
    }
   ],
   "source": [
    "numero = int(input(\"insira um numero\"))\n",
    "\n",
    "while numero >= 0:\n",
    "    print(numero)\n",
    "    numero -= 1"
   ]
  },
  {
   "cell_type": "code",
   "execution_count": 48,
   "metadata": {},
   "outputs": [
    {
     "name": "stdout",
     "output_type": "stream",
     "text": [
      "tem j na frase\n"
     ]
    }
   ],
   "source": [
    "frase = str(input(\"Insira a frase\"))\n",
    "\n",
    "for j in frase:\n",
    "    print(\"tem j na frase\")\n",
    "    break\n",
    "else:\n",
    "    print(\"Sem jota na frase\")\n"
   ]
  },
  {
   "cell_type": "code",
   "execution_count": 60,
   "metadata": {},
   "outputs": [
    {
     "name": "stdout",
     "output_type": "stream",
     "text": [
      "Note: you may need to restart the kernel to use updated packages.\n"
     ]
    },
    {
     "name": "stderr",
     "output_type": "stream",
     "text": [
      "ERROR: Could not find a version that satisfies the requirement matplotlib.pyplot (from versions: none)\n",
      "ERROR: No matching distribution found for matplotlib.pyplot\n",
      "\n",
      "[notice] A new release of pip is available: 23.1.2 -> 24.0\n",
      "[notice] To update, run: python.exe -m pip install --upgrade pip\n"
     ]
    }
   ],
   "source": [
    "pip install matplotlib.pyplot"
   ]
  },
  {
   "cell_type": "code",
   "execution_count": 59,
   "metadata": {},
   "outputs": [
    {
     "ename": "ModuleNotFoundError",
     "evalue": "No module named 'matplotlib'",
     "output_type": "error",
     "traceback": [
      "\u001b[1;31m---------------------------------------------------------------------------\u001b[0m",
      "\u001b[1;31mModuleNotFoundError\u001b[0m                       Traceback (most recent call last)",
      "Cell \u001b[1;32mIn[59], line 1\u001b[0m\n\u001b[1;32m----> 1\u001b[0m \u001b[39mimport\u001b[39;00m \u001b[39mmatplotlib\u001b[39;00m\u001b[39m.\u001b[39;00m\u001b[39mpyplot\u001b[39;00m \u001b[39mas\u001b[39;00m \u001b[39mplt\u001b[39;00m\n\u001b[0;32m      3\u001b[0m \u001b[39m# Definir as coordenadas dos pontos\u001b[39;00m\n\u001b[0;32m      4\u001b[0m x \u001b[39m=\u001b[39m [\u001b[39m50\u001b[39m, \u001b[39m100\u001b[39m, \u001b[39m300\u001b[39m, \u001b[39m200\u001b[39m]\n",
      "\u001b[1;31mModuleNotFoundError\u001b[0m: No module named 'matplotlib'"
     ]
    }
   ],
   "source": [
    "import matplotlib.pyplot as plt\n",
    "\n",
    "# Definir as coordenadas dos pontos\n",
    "x = [50, 100, 300, 200]\n",
    "y = [50, 200, 100, 300]\n",
    "\n",
    "# Criar o gráfico de dispersão (scatter plot)\n",
    "plt.scatter(x, y, color='black')\n",
    "\n",
    "# Definir limites do gráfico\n",
    "plt.xlim(0, 400)\n",
    "plt.ylim(0, 400)\n",
    "\n",
    "# Adicionar título e rótulos dos eixos\n",
    "plt.title('Pontos')\n",
    "plt.xlabel('X')\n",
    "plt.ylabel('Y')\n",
    "\n",
    "# Exibir o gráfico\n",
    "plt.show()"
   ]
  },
  {
   "cell_type": "code",
   "execution_count": null,
   "metadata": {},
   "outputs": [],
   "source": [
    "https://emojicombos.com/pessi"
   ]
  },
  {
   "cell_type": "code",
   "execution_count": 14,
   "metadata": {},
   "outputs": [
    {
     "name": "stdout",
     "output_type": "stream",
     "text": [
      "4.0\n"
     ]
    }
   ],
   "source": [
    "Lado = float(input(\"Insira a Lado do quadrado\"))\n",
    "\n",
    "def area_Quadrado (a):\n",
    "    return (a **2)\n",
    "ResultadoM = area_Quadrado (Lado)\n",
    "print(ResultadoM)\n"
   ]
  },
  {
   "cell_type": "code",
   "execution_count": null,
   "metadata": {},
   "outputs": [],
   "source": [
    "Altura = float(input(\"Insira a Altura do retangulo\"))\n",
    "Base = float(input(\"Insira a base do retangulo\"))\n",
    "\n",
    "def area_Retangulo (a, b):\n",
    "    return (a * b)\n",
    "ResultadoM = area_Retangulo (Altura, Base)\n",
    "print(ResultadoM)"
   ]
  },
  {
   "cell_type": "code",
   "execution_count": 2,
   "metadata": {},
   "outputs": [
    {
     "name": "stdout",
     "output_type": "stream",
     "text": [
      "12.56\n"
     ]
    }
   ],
   "source": [
    "Raio = float(input(\"Insira o Raio do circulo\"))\n",
    "\n",
    "def area_Circulo (a):\n",
    "    return((a**2) * 3.14)\n",
    "ResultadoM = area_Circulo (Raio)\n",
    "print(ResultadoM)"
   ]
  },
  {
   "cell_type": "code",
   "execution_count": 7,
   "metadata": {},
   "outputs": [
    {
     "name": "stdout",
     "output_type": "stream",
     "text": [
      "Você é gay!!\n"
     ]
    }
   ],
   "source": [
    "Numero = float(input(\"insira um Numero\"))\n",
    "def valor_Numero(a):\n",
    "    return(a%2)\n",
    "ResultadoM = valor_Numero (Numero)\n",
    "\n",
    "if ResultadoM == 0:\n",
    "    print(\"O valor é Par\")\n",
    "else:\n",
    "    print(\"O valor é Impar\")\n",
    "\n",
    "\n"
   ]
  },
  {
   "cell_type": "code",
   "execution_count": 9,
   "metadata": {},
   "outputs": [
    {
     "name": "stdout",
     "output_type": "stream",
     "text": [
      "85\n"
     ]
    }
   ],
   "source": [
    "numero1 = 10\n",
    "numero2 = 20\n",
    "numero3 = 25\n",
    "numero4 = 30\n",
    "\n",
    "def soma_numeros(a,b,c,d):\n",
    "    return (a+b+c+d)\n",
    "ResultadoM = soma_numeros(numero1,numero2,numero3,numero4)\n",
    "print(ResultadoM)"
   ]
  },
  {
   "cell_type": "code",
   "execution_count": 15,
   "metadata": {},
   "outputs": [
    {
     "name": "stdout",
     "output_type": "stream",
     "text": [
      "150\n"
     ]
    }
   ],
   "source": [
    "listaNumeros = [10, 20, 30, 40, 50]\n",
    "def somarLista(lista):\n",
    "    valorSoma = 0\n",
    "    for num in lista:\n",
    "        valorSoma += num\n",
    "    return valorSoma\n",
    "print(somarLista(lista=listaNumeros))"
   ]
  }
 ],
 "metadata": {
  "kernelspec": {
   "display_name": "Python 3",
   "language": "python",
   "name": "python3"
  },
  "language_info": {
   "codemirror_mode": {
    "name": "ipython",
    "version": 3
   },
   "file_extension": ".py",
   "mimetype": "text/x-python",
   "name": "python",
   "nbconvert_exporter": "python",
   "pygments_lexer": "ipython3",
   "version": "3.11.4"
  },
  "orig_nbformat": 4
 },
 "nbformat": 4,
 "nbformat_minor": 2
}
