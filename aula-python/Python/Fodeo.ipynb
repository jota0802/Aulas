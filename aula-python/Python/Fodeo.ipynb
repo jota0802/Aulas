{
 "cells": [
  {
   "cell_type": "code",
   "execution_count": 1,
   "metadata": {},
   "outputs": [
    {
     "name": "stdout",
     "output_type": "stream",
     "text": [
      "Requirement already satisfied: sympy in c:\\users\\jvfra\\appdata\\local\\packages\\pythonsoftwarefoundation.python.3.11_qbz5n2kfra8p0\\localcache\\local-packages\\python311\\site-packages (1.12)Note: you may need to restart the kernel to use updated packages.\n",
      "\n",
      "Requirement already satisfied: mpmath>=0.19 in c:\\users\\jvfra\\appdata\\local\\packages\\pythonsoftwarefoundation.python.3.11_qbz5n2kfra8p0\\localcache\\local-packages\\python311\\site-packages (from sympy) (1.3.0)\n"
     ]
    }
   ],
   "source": [
    "pip install sympy"
   ]
  },
  {
   "cell_type": "code",
   "execution_count": 2,
   "metadata": {},
   "outputs": [
    {
     "name": "stdout",
     "output_type": "stream",
     "text": [
      "Collecting numpy\n",
      "  Downloading numpy-1.26.4-cp311-cp311-win_amd64.whl.metadata (61 kB)\n",
      "     ---------------------------------------- 0.0/61.0 kB ? eta -:--:--\n",
      "     ------------ ------------------------- 20.5/61.0 kB 330.3 kB/s eta 0:00:01\n",
      "     -------------------------------------- 61.0/61.0 kB 651.3 kB/s eta 0:00:00\n",
      "Downloading numpy-1.26.4-cp311-cp311-win_amd64.whl (15.8 MB)\n",
      "   ---------------------------------------- 0.0/15.8 MB ? eta -:--:--\n",
      "   - -------------------------------------- 0.7/15.8 MB 15.5 MB/s eta 0:00:01\n",
      "   --- ------------------------------------ 1.4/15.8 MB 14.3 MB/s eta 0:00:02\n",
      "   ----- ---------------------------------- 2.3/15.8 MB 16.0 MB/s eta 0:00:01\n",
      "   ------- -------------------------------- 3.1/15.8 MB 16.7 MB/s eta 0:00:01\n",
      "   ---------- ----------------------------- 4.1/15.8 MB 17.3 MB/s eta 0:00:01\n",
      "   ------------ --------------------------- 5.0/15.8 MB 17.6 MB/s eta 0:00:01\n",
      "   -------------- ------------------------- 5.9/15.8 MB 17.9 MB/s eta 0:00:01\n",
      "   ----------------- ---------------------- 6.7/15.8 MB 18.7 MB/s eta 0:00:01\n",
      "   ------------------- -------------------- 7.6/15.8 MB 18.1 MB/s eta 0:00:01\n",
      "   --------------------- ------------------ 8.5/15.8 MB 18.0 MB/s eta 0:00:01\n",
      "   ----------------------- ---------------- 9.4/15.8 MB 18.1 MB/s eta 0:00:01\n",
      "   -------------------------- ------------- 10.3/15.8 MB 18.2 MB/s eta 0:00:01\n",
      "   ---------------------------- ----------- 11.2/15.8 MB 18.2 MB/s eta 0:00:01\n",
      "   ------------------------------ --------- 12.1/15.8 MB 18.7 MB/s eta 0:00:01\n",
      "   -------------------------------- ------- 13.0/15.8 MB 19.3 MB/s eta 0:00:01\n",
      "   ----------------------------------- ---- 13.9/15.8 MB 18.7 MB/s eta 0:00:01\n",
      "   ------------------------------------- -- 14.7/15.8 MB 18.7 MB/s eta 0:00:01\n",
      "   ---------------------------------------  15.6/15.8 MB 18.7 MB/s eta 0:00:01\n",
      "   ---------------------------------------- 15.8/15.8 MB 17.7 MB/s eta 0:00:00\n",
      "Installing collected packages: numpy\n",
      "Successfully installed numpy-1.26.4\n",
      "Note: you may need to restart the kernel to use updated packages.\n"
     ]
    }
   ],
   "source": [
    "pip install numpy"
   ]
  },
  {
   "attachments": {},
   "cell_type": "markdown",
   "metadata": {},
   "source": [
    "# **Contas em python**"
   ]
  },
  {
   "cell_type": "code",
   "execution_count": 3,
   "metadata": {},
   "outputs": [],
   "source": [
    "from sympy import*\n",
    "from sympy import diff\n",
    "from sympy.plotting import*\n",
    "from sympy import plot \n",
    "from sympy import div\n",
    "import sympy as sy\n",
    "import numpy as np"
   ]
  },
  {
   "cell_type": "code",
   "execution_count": 4,
   "metadata": {},
   "outputs": [],
   "source": [
    "x = Symbol('x')\n"
   ]
  },
  {
   "cell_type": "code",
   "execution_count": 5,
   "metadata": {},
   "outputs": [],
   "source": [
    "y = Symbol('y')"
   ]
  },
  {
   "cell_type": "code",
   "execution_count": null,
   "metadata": {},
   "outputs": [],
   "source": []
  },
  {
   "cell_type": "code",
   "execution_count": 8,
   "metadata": {},
   "outputs": [],
   "source": [
    "z = Symbol('z')"
   ]
  },
  {
   "cell_type": "code",
   "execution_count": 9,
   "metadata": {},
   "outputs": [],
   "source": [
    "a = Symbol('a')"
   ]
  },
  {
   "cell_type": "code",
   "execution_count": 10,
   "metadata": {},
   "outputs": [],
   "source": [
    "b = Symbol('b')"
   ]
  },
  {
   "cell_type": "code",
   "execution_count": 11,
   "metadata": {},
   "outputs": [
    {
     "data": {
      "text/latex": [
       "$\\displaystyle y^{2} \\cdot \\left(2 x^{2} + x - 3\\right) + 12$"
      ],
      "text/plain": [
       "y**2*(2*x**2 + x - 3) + 12"
      ]
     },
     "execution_count": 11,
     "metadata": {},
     "output_type": "execute_result"
    }
   ],
   "source": [
    "(10*x**2 + 5*x - 15) / 5*y**2 + 12"
   ]
  },
  {
   "cell_type": "code",
   "execution_count": 12,
   "metadata": {},
   "outputs": [
    {
     "data": {
      "text/latex": [
       "$\\displaystyle x^{3} + 2 y^{2} + 1$"
      ],
      "text/plain": [
       "x**3 + 2*y**2 + 1"
      ]
     },
     "execution_count": 12,
     "metadata": {},
     "output_type": "execute_result"
    }
   ],
   "source": [
    "x**3 + 2*y**2 + 1"
   ]
  },
  {
   "cell_type": "code",
   "execution_count": 13,
   "metadata": {},
   "outputs": [
    {
     "data": {
      "text/latex": [
       "$\\displaystyle \\frac{10 x^{10}}{3} + \\frac{12 x^{7}}{5} - \\frac{15 x^{5}}{2} + \\frac{100 x^{2}}{23}$"
      ],
      "text/plain": [
       "10*x**10/3 + 12*x**7/5 - 15*x**5/2 + 100*x**2/23"
      ]
     },
     "execution_count": 13,
     "metadata": {},
     "output_type": "execute_result"
    }
   ],
   "source": [
    "(10*x**10/3) - (15*x**5/2) + (100*x**2/23) + (12*x**7/5)"
   ]
  },
  {
   "cell_type": "code",
   "execution_count": 14,
   "metadata": {},
   "outputs": [
    {
     "data": {
      "text/latex": [
       "$\\displaystyle x^{2} + y^{2}$"
      ],
      "text/plain": [
       "x**2 + y**2"
      ]
     },
     "execution_count": 14,
     "metadata": {},
     "output_type": "execute_result"
    }
   ],
   "source": [
    "x**2 + y**2"
   ]
  },
  {
   "cell_type": "code",
   "execution_count": 15,
   "metadata": {},
   "outputs": [
    {
     "data": {
      "text/latex": [
       "$\\displaystyle 10 x^{3} + y^{3}$"
      ],
      "text/plain": [
       "10*x**3 + y**3"
      ]
     },
     "execution_count": 15,
     "metadata": {},
     "output_type": "execute_result"
    }
   ],
   "source": [
    "10*x**3 + y**3"
   ]
  },
  {
   "cell_type": "code",
   "execution_count": 16,
   "metadata": {},
   "outputs": [
    {
     "data": {
      "text/latex": [
       "$\\displaystyle x^{2} + y^{2} + z^{2}$"
      ],
      "text/plain": [
       "x**2 + y**2 + z**2"
      ]
     },
     "execution_count": 16,
     "metadata": {},
     "output_type": "execute_result"
    }
   ],
   "source": [
    "x**2 + y**2 + z**2"
   ]
  },
  {
   "cell_type": "code",
   "execution_count": 17,
   "metadata": {},
   "outputs": [
    {
     "data": {
      "text/latex": [
       "$\\displaystyle 2 x$"
      ],
      "text/plain": [
       "2*x"
      ]
     },
     "execution_count": 17,
     "metadata": {},
     "output_type": "execute_result"
    }
   ],
   "source": [
    "(x**2).diff(x)"
   ]
  },
  {
   "cell_type": "code",
   "execution_count": 18,
   "metadata": {},
   "outputs": [
    {
     "data": {
      "text/latex": [
       "$\\displaystyle \\frac{d}{d x} x^{2}$"
      ],
      "text/plain": [
       "Derivative(x**2, x)"
      ]
     },
     "execution_count": 18,
     "metadata": {},
     "output_type": "execute_result"
    }
   ],
   "source": [
    "Derivative(x**2)"
   ]
  },
  {
   "cell_type": "code",
   "execution_count": 19,
   "metadata": {},
   "outputs": [
    {
     "data": {
      "text/latex": [
       "$\\displaystyle \\frac{x^{3}}{3}$"
      ],
      "text/plain": [
       "x**3/3"
      ]
     },
     "execution_count": 19,
     "metadata": {},
     "output_type": "execute_result"
    }
   ],
   "source": [
    "integrate(x**2)"
   ]
  },
  {
   "cell_type": "code",
   "execution_count": 20,
   "metadata": {},
   "outputs": [
    {
     "data": {
      "text/latex": [
       "$\\displaystyle \\int x^{2}\\, dx$"
      ],
      "text/plain": [
       "Integral(x**2, x)"
      ]
     },
     "execution_count": 20,
     "metadata": {},
     "output_type": "execute_result"
    }
   ],
   "source": [
    "Integral(x**2)"
   ]
  },
  {
   "cell_type": "code",
   "execution_count": 10,
   "metadata": {},
   "outputs": [
    {
     "name": "stdout",
     "output_type": "stream",
     "text": [
      "  59000 |\\                                                      \n",
      "        | .                                                     \n",
      "        |                                                       \n",
      "        |  .                                                    \n",
      "        |   \\                                                   \n",
      "        |    \\                                                 .\n",
      "        |     \\                                                 \n",
      "        |      \\                                              . \n",
      "        |       \\                                            /  \n",
      "        |        \\                                          /   \n",
      "  30000 |---------\\----------------------------------------/----\n",
      "        |          \\                                      /     \n",
      "        |           \\                                    /      \n",
      "        |            \\                                 ..       \n",
      "        |             \\                               /         \n",
      "        |              ..                            /          \n",
      "        |                \\                         ..           \n",
      "        |                 ..                     ..             \n",
      "        |                   ...                ..               \n",
      "        |                      ...         ....                 \n",
      "   1000 |_______________________________________________________\n",
      "         -100                       0                          100\n"
     ]
    },
    {
     "data": {
      "text/plain": [
       "<sympy.plotting.plot.Plot at 0x15cc180e610>"
      ]
     },
     "execution_count": 10,
     "metadata": {},
     "output_type": "execute_result"
    }
   ],
   "source": [
    "plot(5*(x**2) -80*x + 1200, (x,-100,100))"
   ]
  },
  {
   "cell_type": "code",
   "execution_count": null,
   "metadata": {},
   "outputs": [],
   "source": []
  },
  {
   "cell_type": "code",
   "execution_count": 22,
   "metadata": {},
   "outputs": [
    {
     "ename": "ValueError",
     "evalue": "could not convert string to float: ''",
     "output_type": "error",
     "traceback": [
      "\u001b[1;31m---------------------------------------------------------------------------\u001b[0m",
      "\u001b[1;31mValueError\u001b[0m                                Traceback (most recent call last)",
      "Cell \u001b[1;32mIn[22], line 1\u001b[0m\n\u001b[1;32m----> 1\u001b[0m nota \u001b[39m=\u001b[39m \u001b[39mfloat\u001b[39;49m(\u001b[39minput\u001b[39;49m(\u001b[39m\"\u001b[39;49m\u001b[39mnota do aluno\u001b[39;49m\u001b[39m\"\u001b[39;49m))\n\u001b[0;32m      2\u001b[0m frequencia \u001b[39m=\u001b[39m \u001b[39mint\u001b[39m(\u001b[39minput\u001b[39m(\u001b[39m\"\u001b[39m\u001b[39mfrequência do aluno\u001b[39m\u001b[39m\"\u001b[39m))\n\u001b[0;32m      4\u001b[0m \u001b[39mif\u001b[39;00m nota \u001b[39m>\u001b[39m\u001b[39m=\u001b[39m\u001b[39m7\u001b[39m \u001b[39mand\u001b[39;00m frequencia \u001b[39m>\u001b[39m\u001b[39m=\u001b[39m\u001b[39m75\u001b[39m:\n",
      "\u001b[1;31mValueError\u001b[0m: could not convert string to float: ''"
     ]
    }
   ],
   "source": [
    "nota = float(input(\"nota do aluno\"))\n",
    "frequencia = int(input(\"frequência do aluno\"))\n",
    "\n",
    "if nota >=7 and frequencia >=75:\n",
    "    print(\"aprovado\")\n",
    "else:\n",
    "    print(\"reprovado\")"
   ]
  },
  {
   "attachments": {},
   "cell_type": "markdown",
   "metadata": {},
   "source": [
    "Aula Differentiated problem solving"
   ]
  },
  {
   "cell_type": "code",
   "execution_count": null,
   "metadata": {},
   "outputs": [
    {
     "name": "stdout",
     "output_type": "stream",
     "text": [
      "A equação é: (2*x + 5)*(5*y - 2)\n",
      "\n",
      "A sua expansão é: 10*x*y - 4*x + 25*y - 10\n",
      "\n",
      "A divisão da equação por (x - 1) é igual a: (10*y - 4, 35*y - 14)\n",
      "\n",
      "O valor da divisão da equação por 15x é igual a: (2*y/3 - 4/15, 25*y - 10)\n",
      "\n"
     ]
    },
    {
     "ename": "TypeError",
     "evalue": "unsupported format string passed to Pow.__format__",
     "output_type": "error",
     "traceback": [
      "\u001b[1;31m---------------------------------------------------------------------------\u001b[0m",
      "\u001b[1;31mTypeError\u001b[0m                                 Traceback (most recent call last)",
      "Cell \u001b[1;32mIn[22], line 20\u001b[0m\n\u001b[0;32m     18\u001b[0m \u001b[39m#para encurtar os decimais use: \"print(f \"(texto) {(Variavel):.2f}\")\u001b[39;00m\n\u001b[0;32m     19\u001b[0m R \u001b[39m=\u001b[39m a\u001b[39m*\u001b[39m\u001b[39m*\u001b[39m(\u001b[39m1\u001b[39m\u001b[39m/\u001b[39m\u001b[39m2\u001b[39m)\n\u001b[1;32m---> 20\u001b[0m \u001b[39mprint\u001b[39m(\u001b[39mf\u001b[39m\u001b[39m\"\u001b[39m\u001b[39mA raiz quadrada de A vale aproximadamente: \u001b[39m\u001b[39m{\u001b[39;00mR\u001b[39m:\u001b[39;00m\u001b[39m.1f\u001b[39m\u001b[39m}\u001b[39;00m\u001b[39m\"\u001b[39m)\n\u001b[0;32m     22\u001b[0m fatoracao \u001b[39m=\u001b[39m sy\u001b[39m.\u001b[39mfactor(expansao)\n\u001b[0;32m     24\u001b[0m \u001b[39m#comandos aprendidos\u001b[39;00m\n",
      "File \u001b[1;32mc:\\Python311\\Lib\\site-packages\\sympy\\core\\expr.py:394\u001b[0m, in \u001b[0;36mExpr.__format__\u001b[1;34m(self, format_spec)\u001b[0m\n\u001b[0;32m    392\u001b[0m         \u001b[39mif\u001b[39;00m rounded\u001b[39m.\u001b[39mis_Float:\n\u001b[0;32m    393\u001b[0m             \u001b[39mreturn\u001b[39;00m \u001b[39mformat\u001b[39m(rounded, format_spec)\n\u001b[1;32m--> 394\u001b[0m \u001b[39mreturn\u001b[39;00m \u001b[39msuper\u001b[39;49m()\u001b[39m.\u001b[39;49m\u001b[39m__format__\u001b[39;49m(format_spec)\n",
      "\u001b[1;31mTypeError\u001b[0m: unsupported format string passed to Pow.__format__"
     ]
    }
   ],
   "source": [
    "\n",
    "expr = (2*x + 5)*(5*y - 2)\n",
    "print(\"A equação é:\",expr)\n",
    "print(\"\")\n",
    "\n",
    "expansao = sy.expand(expr)\n",
    "print(\"A sua expansão é:\",expansao)\n",
    "print(\"\")\n",
    "\n",
    "#para divisão usar a \",\":\n",
    "divisao = sy.div(expansao, x - 1)\n",
    "print(\"A divisão da equação por (x - 1) é igual a:\",divisao)\n",
    "print(\"\")\n",
    "\n",
    "divisão2 = sy.div(expansao, 15*x)\n",
    "print(\"O valor da divisão da equação por 15x é igual a:\",divisão2)\n",
    "print(\"\")\n",
    "\n",
    "#para encurtar os decimais use: \"print(f \"(texto) {(Variavel):.2f}\")\n",
    "R = a**(1/2)\n",
    "print(f\"A raiz quadrada de A vale aproximadamente: {R:.1f}\")\n",
    "\n",
    "fatoracao = sy.factor(expansao)\n",
    "\n",
    "#comandos aprendidos\n",
    "sy.solve\n",
    "sy.factor\n",
    "sy.div\n",
    "sy.expand\n",
    "sy.Symbol\n",
    "sy.sqrt\n",
    "\n"
   ]
  },
  {
   "attachments": {},
   "cell_type": "markdown",
   "metadata": {},
   "source": [
    "# **Conjuntos**"
   ]
  },
  {
   "cell_type": "code",
   "execution_count": null,
   "metadata": {},
   "outputs": [],
   "source": [
    "#Pares ordenados: (x,y)\n",
    "#Conjuntos: (A, B)\n",
    "#Relação (R): manda na operação, mas não necessariamente é uma função, Dominio e Imagem.\n",
    "#Todos os valores de X (está no conjunto A) tem que estar relacionados com pelo menos 1 valor de Y (que esta no conjunto B) para ser uma função!!\n",
    "#exemplo: R= x > y\n",
    "#Dominio: valores de X (Valores usados de x no conjunto A, ou seja todos, se forem funções)\n",
    "#Imagem: valores de Y (Valores usados de Y no Conjunto B)\n"
   ]
  },
  {
   "attachments": {},
   "cell_type": "markdown",
   "metadata": {},
   "source": [
    "# **Variaveis não numericas**"
   ]
  },
  {
   "cell_type": "code",
   "execution_count": null,
   "metadata": {},
   "outputs": [
    {
     "data": {
      "text/plain": [
       "' python'"
      ]
     },
     "execution_count": 39,
     "metadata": {},
     "output_type": "execute_result"
    }
   ],
   "source": [
    "s = \"lets lurn python\"\n",
    "s[9:]\n"
   ]
  },
  {
   "cell_type": "code",
   "execution_count": null,
   "metadata": {},
   "outputs": [
    {
     "data": {
      "text/plain": [
       "'lets'"
      ]
     },
     "execution_count": 23,
     "metadata": {},
     "output_type": "execute_result"
    }
   ],
   "source": [
    "s = \"lets lurn python\"\n",
    "s[:4]\n"
   ]
  },
  {
   "cell_type": "code",
   "execution_count": null,
   "metadata": {},
   "outputs": [
    {
     "data": {
      "text/plain": [
       "'o Jota é paia'"
      ]
     },
     "execution_count": 24,
     "metadata": {},
     "output_type": "execute_result"
    }
   ],
   "source": [
    "s = \"lets lurn python\"\n",
    "a= \"abuabu\"\n",
    "b= \"fiapo\"\n",
    "s + a + b\n",
    "\n",
    "\"o %s é paia\"%(\"Jota\")\n",
    "# %s é para string\n",
    "# %d é para inteiros\n",
    "# %f é para float"
   ]
  },
  {
   "cell_type": "code",
   "execution_count": null,
   "metadata": {},
   "outputs": [
    {
     "data": {
      "text/plain": [
       "'o Jota é paia'"
      ]
     },
     "execution_count": 25,
     "metadata": {},
     "output_type": "execute_result"
    }
   ],
   "source": [
    "nome = \"Jota\"\n",
    "\"o {} é paia\".format(nome)\n",
    "\n"
   ]
  },
  {
   "cell_type": "code",
   "execution_count": null,
   "metadata": {},
   "outputs": [
    {
     "data": {
      "text/plain": [
       "'meu nome é jota, Nasci em SP, tenho 17 anos e sou paia'"
      ]
     },
     "execution_count": 6,
     "metadata": {},
     "output_type": "execute_result"
    }
   ],
   "source": [
    "nome = str(input(\"Coloque seu nome\"))\n",
    "idade = int(input(\"Coloque sua idade\"))\n",
    "local = str(input(\"Coloque seu local de nascimento\"))\n",
    "\"meu nome é %s, Nasci em %s, tenho %d anos e sou paia\"%(nome,local,idade)\n"
   ]
  },
  {
   "cell_type": "code",
   "execution_count": null,
   "metadata": {},
   "outputs": [
    {
     "name": "stdout",
     "output_type": "stream",
     "text": [
      "meu nome é jota, Nasci em SP, tenho 17 anos e sou paia\n"
     ]
    },
    {
     "data": {
      "text/plain": [
       "'Jota'"
      ]
     },
     "execution_count": 7,
     "metadata": {},
     "output_type": "execute_result"
    }
   ],
   "source": [
    "print(\"meu nome é {}, Nasci em {}, tenho {} anos e sou paia\".format(nome,local,idade))\n",
    "nome[0].upper() + nome[1:].lower()"
   ]
  },
  {
   "cell_type": "code",
   "execution_count": null,
   "metadata": {},
   "outputs": [
    {
     "name": "stdout",
     "output_type": "stream",
     "text": [
      "Homem\n"
     ]
    }
   ],
   "source": [
    "Sexo = str(input(\"Coloque H para homem e M para mulher\"))\n",
    "\n",
    "if Sexo == \"H\":\n",
    "    print(\"Homem\")\n",
    "elif Sexo ==\"h\":\n",
    "    print(\"Homem\")\n",
    "else:\n",
    "    print(\"Molier\")"
   ]
  },
  {
   "cell_type": "code",
   "execution_count": null,
   "metadata": {},
   "outputs": [
    {
     "name": "stdout",
     "output_type": "stream",
     "text": [
      "O Aluno poderá fazer uma outra prova para substituir suas notas\n",
      "\n",
      "Aluno aprovado pela prova substitutiva, nota: 6.0\n"
     ]
    }
   ],
   "source": [
    "nota1 = float(input(\"Coloque a Primeira nota\"))\n",
    "nota2 = float(input(\"Coloque a Segunda nota\"))\n",
    "nota3 = float(input(\"Coloque a Terceira nota\"))\n",
    "frequencia = int(input(\"Coloque sua Frequencia\"))\n",
    "\n",
    "media = (nota1 + nota2 + nota3) / 3\n",
    "\n",
    "if media >=6 and frequencia >= 75:\n",
    "    print(f\"Aluno aprovado, nota: {media:.2f}\")\n",
    "\n",
    "elif 4 <= media <=6 and 75<= frequencia <= 100:\n",
    "    print(\"O Aluno poderá fazer uma outra prova para substituir suas notas\")\n",
    "    print(\"\")\n",
    "\n",
    "    notaN = float(input(\"Coloque a nota da prova substitutiva\"))\n",
    "    MediaN = (nota1 + nota2 + nota3 + notaN) / 4 \n",
    "    \n",
    "    if MediaN >=6:\n",
    "        print(\"Aluno aprovado pela prova substitutiva, nota:\", MediaN)\n",
    "    elif MediaN <6:\n",
    "        print(\"O Aluno não foi aprovado pela prova substitutiva\")\n",
    "        print(\"\")\n",
    "        if frequencia >= 90 and 5<= MediaN <6:\n",
    "            print(\"Entretanto, pela boa frequencia do Aluno, ele foi aprovado\")\n",
    "        else:\n",
    "            print(\"O Aluno foi reprovado\")\n",
    "            \n",
    "\n",
    "elif media >= 4 and frequencia < 75:\n",
    "    print(f\"Aluno reprovado por frequencia,{frequencia:.1f}%, nota:{media:.2f}\")\n",
    "\n",
    "elif media <4 and frequencia >=75:\n",
    "    print(f\"Aluno reprovado por nota {media:.2f}\")\n",
    "\n",
    "elif media < 4 and frequencia < 75:\n",
    "    print(f\"Aluno reprovado por nota e frequencia, frequencia:{frequencia:.2f}%, nota: {media:.2f}\")\n"
   ]
  },
  {
   "cell_type": "code",
   "execution_count": null,
   "metadata": {},
   "outputs": [],
   "source": [
    "Formato = str(input(\"Coloque C para Circulo, Q para quadrado, T para trinagulo, R para retangulo\"))\n",
    "\n",
    "if Formato == \"C\":\n",
    "    RaioC = float(input(\"Coloque o valor Raio do circulo em cm\"))\n",
    "    AreaC = RaioC * RaioC\n",
    "    print(\"A Área do Circulo é:\",AreaC,\"π cm²\")\n",
    "\n",
    "elif Formato == \"c\":\n",
    "    RaioC = float(input(\"Coloque o valor Raio do circulo em cm\"))\n",
    "    AreaC = RaioC * RaioC\n",
    "    print(\"A Área do Circulo é:\",AreaC,\"π cm²\")\n",
    "\n",
    "elif Formato == \"Q\":\n",
    "    Lado = float(input(\"Coloque o valor do Lado do quadrado em cm\"))\n",
    "    AreaQ= Lado * Lado\n",
    "    print(\"A Área do quadrado é:\",AreaQ,\"cm²\")\n",
    "\n",
    "elif Formato == \"q\":\n",
    "    Lado = float(input(\"Coloque o valor do Lado do quadrado em cm\"))\n",
    "    AreaQ= Lado * Lado\n",
    "    print(\"A Área do quadrado é:\",AreaQ,\"cm²\")\n",
    "\n",
    "elif Formato == \"T\":\n",
    "    Base = float(input(\"Coloque o valor do Base do triangulo em cm\"))\n",
    "    Altura = float(input(\"Coloque a Altura do triangulo em cm\"))\n",
    "    AreaT= (Base * Altura)/2\n",
    "    print(\"A Área do triangulo é:\",AreaT,\"cm²\")\n",
    "\n",
    "elif Formato == \"t\":\n",
    "    Base = float(input(\"Coloque o valor do Base do triangulo em cm\"))\n",
    "    Altura = float(input(\"Coloque a Altura do triangulo em cm\"))\n",
    "    AreaT= (Base * Altura)/2\n",
    "    print(\"A Área do triangulo é:\",AreaT,\"cm²\")\n",
    "\n",
    "elif Formato == \"R\":\n",
    "    Base = float(input(\"Coloque o valor do Base do retangulo em cm\"))\n",
    "    Altura = float(input(\"Coloque a Altura do retangulo em cm\"))\n",
    "    AreaR= (Base * Altura)\n",
    "    print(\"A Área do retangulo é:\",AreaR,\"cm²\")\n",
    "\n",
    "elif Formato == \"r\":\n",
    "    Base = float(input(\"Coloque o valor do Base do retangulo em cm\"))\n",
    "    Altura = float(input(\"Coloque a Altura do retangulo em cm\"))\n",
    "    AreaR= (Base * Altura)\n",
    "    print(\"A Área do retangulo é:\",AreaR,\"cm²\")"
   ]
  },
  {
   "cell_type": "code",
   "execution_count": null,
   "metadata": {},
   "outputs": [
    {
     "name": "stdout",
     "output_type": "stream",
     "text": [
      "Dia de ir na faculdade\n"
     ]
    }
   ],
   "source": [
    "Dia = str(input(\"Coloque o dia da semana\"))\n",
    "\n",
    "#segunda\n",
    "if Dia == \"Segunda\":\n",
    "    print(\"Dia de ir na faculdade\")\n",
    "elif Dia == \"segunda\":\n",
    "    print(\"Dia de ir na faculdade\")\n",
    "\n",
    "#terça\n",
    "elif Dia == \"Terça\":\n",
    "    print(\"Dia de nanocourse\")\n",
    "elif Dia == \"terça\":\n",
    "    print(\"Dia de nanocourse\")\n",
    "\n",
    "#quarta\n",
    "elif Dia == \"Quarta\":\n",
    "    print(\"Dia de ir pra faculdade\")\n",
    "elif Dia == \"quarta\":\n",
    "    print(\"Dia de ir pra faculdade\")\n",
    "\n",
    "#quinta\n",
    "elif Dia == \"Quinta\":\n",
    "    print(\"Dia de ir pra faculdade\")\n",
    "elif Dia == \"quinta\":\n",
    "    print(\"Dia de ir pra faculdade\")\n",
    "\n",
    "#sexta\n",
    "elif Dia == \"Sexta\":\n",
    "    print(\"Dia de aula online\")\n",
    "elif Dia == \"sexta\":\n",
    "    print(\"Dia de aula online\")\n",
    "\n",
    "#sabado\n",
    "elif Dia == \"Sabado\":\n",
    "    print(\"Dia de jogar vava\")\n",
    "elif Dia == \"sabado\":\n",
    "    print(\"Dia de jogar vava\")\n",
    "    \n",
    "#domingo\n",
    "elif Dia == \"Domingo\":\n",
    "    print(\"Dia de jogar vava de novo!!\")\n",
    "elif Dia == \"domingo\":\n",
    "    print(\"Dia de jogar vava de novo!!\")\n",
    "\n"
   ]
  }
 ],
 "metadata": {
  "kernelspec": {
   "display_name": "Python 3",
   "language": "python",
   "name": "python3"
  },
  "language_info": {
   "codemirror_mode": {
    "name": "ipython",
    "version": 3
   },
   "file_extension": ".py",
   "mimetype": "text/x-python",
   "name": "python",
   "nbconvert_exporter": "python",
   "pygments_lexer": "ipython3",
   "version": "3.11.9"
  },
  "orig_nbformat": 4
 },
 "nbformat": 4,
 "nbformat_minor": 2
}
