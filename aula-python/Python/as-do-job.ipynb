{
 "cells": [
  {
   "cell_type": "code",
   "execution_count": 9,
   "metadata": {},
   "outputs": [
    {
     "name": "stdout",
     "output_type": "stream",
     "text": [
      "seja bem vindo:  jotinha\n"
     ]
    }
   ],
   "source": [
    "# estrutura de login\n",
    "\n",
    "#declarando variaveis\n",
    "nome = str(input(\"insira o nome do usuário\"))\n",
    "senha = int(input(\"insira sua senha\"))\n",
    "i = 0\n",
    "\n",
    "#codigo\n",
    "nome_real = \"jotinha\"\n",
    "senha_real = 1234\n",
    "for i in range(0,4):\n",
    "    if nome != nome_real or senha != senha_real:\n",
    "        if i < 3 and (nome != nome_real or senha != senha_real):\n",
    "            print(f\"dados invalidos, tente novamente, {3-i}  tenativas restantes\")\n",
    "            nome = str(input(\"insira o nome do usuário\"))\n",
    "            senha = int(input(\"insira sua senha\"))\n",
    "            i += 1\n",
    "        elif nome == nome_real and senha == senha_real:\n",
    "            print(\"seja bem vindo: \", nome)\n",
    "            break\n",
    "        elif i ==3:\n",
    "            print(\"você já usou as 3 tentativas, tente novamente mais tarde\")\n",
    "    else:\n",
    "        print(\"seja bem vindo: \",nome)\n",
    "        break\n",
    "\n",
    "            "
   ]
  },
  {
   "cell_type": "code",
   "execution_count": null,
   "metadata": {},
   "outputs": [],
   "source": []
  }
 ],
 "metadata": {
  "kernelspec": {
   "display_name": "Python 3",
   "language": "python",
   "name": "python3"
  },
  "language_info": {
   "codemirror_mode": {
    "name": "ipython",
    "version": 3
   },
   "file_extension": ".py",
   "mimetype": "text/x-python",
   "name": "python",
   "nbconvert_exporter": "python",
   "pygments_lexer": "ipython3",
   "version": "3.11.4"
  },
  "orig_nbformat": 4
 },
 "nbformat": 4,
 "nbformat_minor": 2
}
